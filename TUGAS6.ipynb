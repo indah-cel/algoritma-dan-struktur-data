{
 "cells": [
  {
   "cell_type": "code",
   "execution_count": 1,
   "metadata": {},
   "outputs": [
    {
     "name": "stdout",
     "output_type": "stream",
     "text": [
      "berapakah nilai kamu?50\n",
      "kamu harus ikut remidi\n"
     ]
    }
   ],
   "source": [
    "#if\n",
    "\n",
    "nilai = int (input (\"berapakah nilai kamu?\"))\n",
    "\n",
    "if nilai  <70:\n",
    "    print(\"kamu harus ikut remidi\")"
   ]
  },
  {
   "cell_type": "code",
   "execution_count": 7,
   "metadata": {},
   "outputs": [
    {
     "name": "stdout",
     "output_type": "stream",
     "text": [
      "masukan jari-jari 10\n",
      "314\n",
      "Lingkaran ini besar\n"
     ]
    }
   ],
   "source": [
    "r = int(input(\"masukan jari-jari \"))\n",
    "L = 3.14*r*r\n",
    "print (int(L))\n",
    "\n",
    "if L >= 314:\n",
    "    print(\"Lingkaran ini besar\")\n",
    "else:\n",
    "    print(\"Lingkaran ini kecil\")\n"
   ]
  },
  {
   "cell_type": "code",
   "execution_count": 10,
   "metadata": {},
   "outputs": [
    {
     "name": "stdout",
     "output_type": "stream",
     "text": [
      "masukan nomer program1\n",
      "masukan p2\n",
      "masukan l1\n",
      "masukan t2\n"
     ]
    }
   ],
   "source": [
    "#if/elif/else\n",
    "\n",
    "def Vbalok():\n",
    "    p= int(input(\"masukan p\"))\n",
    "    l=int(input(\"masukan l\"))\n",
    "    t=int(input(\"masukan t\"))\n",
    "    v_balok = p*l*t\n",
    "def Vkubus():\n",
    "    s=int(input(\"masukan s\"))\n",
    "    v_kubus = s*s*s\n",
    "    print(\"volume kubus=\", V_kubus)\n",
    "program =int(input(\"masukan nomer program\"))\n",
    "          \n",
    "if program == 1:\n",
    "          Vbalok()\n",
    "elif program == 2:\n",
    "          Vkubus()\n",
    "else:\n",
    "    print (\"program tidak tersedia\")\n",
    "\n"
   ]
  },
  {
   "cell_type": "code",
   "execution_count": null,
   "metadata": {},
   "outputs": [],
   "source": []
  }
 ],
 "metadata": {
  "kernelspec": {
   "display_name": "Python 3",
   "language": "python",
   "name": "python3"
  },
  "language_info": {
   "codemirror_mode": {
    "name": "ipython",
    "version": 3
   },
   "file_extension": ".py",
   "mimetype": "text/x-python",
   "name": "python",
   "nbconvert_exporter": "python",
   "pygments_lexer": "ipython3",
   "version": "3.8.3"
  }
 },
 "nbformat": 4,
 "nbformat_minor": 4
}
