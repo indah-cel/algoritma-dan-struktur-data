{
 "cells": [
  {
   "cell_type": "code",
   "execution_count": 9,
   "metadata": {},
   "outputs": [
    {
     "name": "stdout",
     "output_type": "stream",
     "text": [
      "Because I pround to make something new\n",
      "I like reading\n"
     ]
    }
   ],
   "source": [
    "#indah yuni saputri\n",
    "#membuat fungsi 1\n",
    "def Biodata ():\n",
    "    print(\"Because I pround to make something new\")\n",
    "    print (\"I like reading\")\n",
    "    \n",
    "## pemanggilan fungsi\n",
    "Biodata()\n",
    "\n",
    "\n",
    "\n",
    "\n"
   ]
  },
  {
   "cell_type": "code",
   "execution_count": 12,
   "metadata": {},
   "outputs": [
    {
     "name": "stdout",
     "output_type": "stream",
     "text": [
      "nama saya adalah indah yuni\n",
      "perkenalkan nama saya adalah indah yuni dari brebes\n",
      "luas persegi panjang adalah 24\n"
     ]
    }
   ],
   "source": [
    "#indah yuni saputri\n",
    "\n",
    "def fungsi_1():\n",
    "    nama= input(\"nama saya adalah \")\n",
    "    print(\"perkenalkan nama saya adalah\",nama,\"dari brebes\")\n",
    "def luas_persegi_panjang(panjang,lebar):\n",
    "    luas=(panjang*lebar)\n",
    "    print(\"luas persegi panjang adalah\",luas)\n",
    "fungsi_1()\n",
    "luas_persegi_panjang(4,6)\n",
    "    "
   ]
  },
  {
   "cell_type": "code",
   "execution_count": 13,
   "metadata": {},
   "outputs": [
    {
     "name": "stdout",
     "output_type": "stream",
     "text": [
      "luas persegi panjang 30\n",
      "volum kubus 252\n"
     ]
    }
   ],
   "source": [
    "def luas_persegi_panjang(panjang,lebar):\n",
    "    luas = panjang * lebar\n",
    "    return luas\n",
    "\n",
    "def volum_kubus(panjang,lebar,tinggi):\n",
    "    volum =panjang *lebar * tinggi\n",
    "    return volum\n",
    "print(\"luas persegi panjang\",luas_persegi_panjang(5,6))\n",
    "print(\"volum kubus\",volum_kubus(6,6,7))"
   ]
  },
  {
   "cell_type": "code",
   "execution_count": 14,
   "metadata": {},
   "outputs": [
    {
     "name": "stdout",
     "output_type": "stream",
     "text": [
      "masukan angka pertama 5\n",
      "masukan angka kedua 4\n",
      "angka pertama sama dengan angka kedua adalah False\n",
      "angka pertama lebih besar daripada angka kedua adalah True\n"
     ]
    }
   ],
   "source": [
    "#fungsi,input,operator logika\n",
    "angka_1=float(input(\"masukan angka pertama\"))\n",
    "angka_2=float(input(\"masukan angka kedua\"))\n",
    "\n",
    "def fungsi_operator1():\n",
    "    operator1=angka_1==angka_2\n",
    "    print(\"angka pertama sama dengan angka kedua adalah\",operator1)\n",
    "def fungsi_operator2():\n",
    "    operator2=angka_1>angka_2\n",
    "    print(\"angka pertama lebih besar daripada angka kedua adalah\",operator2)\n",
    "fungsi_operator1()\n",
    "fungsi_operator2()"
   ]
  },
  {
   "cell_type": "code",
   "execution_count": null,
   "metadata": {},
   "outputs": [],
   "source": []
  }
 ],
 "metadata": {
  "kernelspec": {
   "display_name": "Python 3",
   "language": "python",
   "name": "python3"
  },
  "language_info": {
   "codemirror_mode": {
    "name": "ipython",
    "version": 3
   },
   "file_extension": ".py",
   "mimetype": "text/x-python",
   "name": "python",
   "nbconvert_exporter": "python",
   "pygments_lexer": "ipython3",
   "version": "3.8.3"
  }
 },
 "nbformat": 4,
 "nbformat_minor": 4
}
