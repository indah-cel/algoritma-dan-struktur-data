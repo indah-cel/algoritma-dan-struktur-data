{
 "cells": [
  {
   "cell_type": "code",
   "execution_count": 1,
   "metadata": {},
   "outputs": [
    {
     "name": "stdout",
     "output_type": "stream",
     "text": [
      "hasil 12 + 10 = 22\n",
      "hasil 12 - 10 = 2\n",
      "hasil 12 * 10 = 120\n",
      "hasil 12 / 10 = 1.2\n",
      "hasil 12  %  10 = 2\n",
      "hasil 12 ** 10 = 61917364224\n"
     ]
    }
   ],
   "source": [
    "#operator aritmatika\n",
    "a = 12\n",
    "b = 10 \n",
    "\n",
    "#menggunakaan operator penjumlahan \n",
    "c = a + b\n",
    "print (\"hasil\", a, \"+\" ,b, \"=\", c)\n",
    "\n",
    "#operator penguraan \n",
    "d = a - b\n",
    "print (\"hasil\", a, \"-\" ,b, \"=\", d)\n",
    "\n",
    "#opertor perkalian\n",
    "e = a * b\n",
    "print (\"hasil\", a, \"*\" ,b, \"=\", e)\n",
    "\n",
    "#operator pembagian\n",
    "f = a / b\n",
    "print (\"hasil\", a, \"/\" ,b, \"=\", f)\n",
    "\n",
    "#sisa bagi\n",
    "g = a % b\n",
    "print (\"hasil\", a, \" % \" ,b, \"=\", g)\n",
    "\n",
    "#pemangkatan\n",
    "h = a ** b\n",
    "print (\"hasil\", a, \"**\" ,b, \"=\", h)\n",
    "\n",
    "\n",
    "\n"
   ]
  },
  {
   "cell_type": "code",
   "execution_count": 2,
   "metadata": {},
   "outputs": [
    {
     "name": "stdout",
     "output_type": "stream",
     "text": [
      "17\n",
      "22\n",
      "16\n",
      "112\n",
      "14.0\n",
      "5.0\n",
      "9765625.0\n"
     ]
    }
   ],
   "source": [
    "#oprator penugasan\n",
    "a= 17\n",
    "print(a)\n",
    "\n",
    "a +=5\n",
    "print(a)\n",
    "\n",
    "a -=6\n",
    "print (a)\n",
    "\n",
    "a *= 7\n",
    "print(a)\n",
    "\n",
    "a /= 8\n",
    "print(a)\n",
    "\n",
    "a %= 9\n",
    "print(a)\n",
    "\n",
    "a **= 10\n",
    "print (a)"
   ]
  },
  {
   "cell_type": "code",
   "execution_count": 3,
   "metadata": {},
   "outputs": [
    {
     "name": "stdout",
     "output_type": "stream",
     "text": [
      "apakah a lebih besar dari b: True\n",
      "apakah a lebih kecil dari d: False\n",
      "apakah a sama dengan b: False\n",
      "apakah a tidak sama dengan b: True\n",
      "apakah a lebih besar sama dengan dari b: True\n",
      "apakah a lebih kecil sama dengan dari b\n"
     ]
    }
   ],
   "source": [
    "#opertor perbandingan\n",
    "a = 15\n",
    "b = 10\n",
    "\n",
    "#apakah a lebih besar dari b?\n",
    "c = a > b\n",
    "print(\"apakah a lebih besar dari b:\", c)\n",
    "\n",
    "#apakah a lebih kecil dari b?\n",
    "d = a < b\n",
    "print(\"apakah a lebih kecil dari d:\", d)\n",
    "\n",
    "#apakah a sama dengan b?\n",
    "e = a == b\n",
    "print(\"apakah a sama dengan b:\", e)\n",
    "\n",
    "#apakah a tidak sama dengan b?\n",
    "f = a != b\n",
    "print(\"apakah a tidak sama dengan b:\", f)\n",
    "\n",
    "#apakah a lebih besar sama dengan dari b?\n",
    "g = a >= b\n",
    "print(\"apakah a lebih besar sama dengan dari b:\", g)\n",
    "\n",
    "#apakah a lebih kecil sama dengan dari b?\n",
    "h = a <= b\n",
    "print(\"apakah a lebih kecil sama dengan dari b\")\n"
   ]
  },
  {
   "cell_type": "code",
   "execution_count": 1,
   "metadata": {},
   "outputs": [
    {
     "name": "stdout",
     "output_type": "stream",
     "text": [
      "False\n",
      "True\n",
      "True\n"
     ]
    }
   ],
   "source": [
    "#operator logika\n",
    "a = True\n",
    "b = False\n",
    "\n",
    "#logika AND\n",
    "c = a and b\n",
    "print(c)\n",
    "\n",
    "#logika OR\n",
    "d = a or b\n",
    "print(d)\n",
    "\n",
    "#negasi/kebalikan\n",
    "e =  not b\n",
    "print(e)"
   ]
  },
  {
   "cell_type": "code",
   "execution_count": 9,
   "metadata": {},
   "outputs": [
    {
     "name": "stdout",
     "output_type": "stream",
     "text": [
      "Nama bayithania \n",
      "Nama bayi : thania \n",
      "berat4\n",
      "Berat : 4 kg\n",
      "Berat : 40 ons\n",
      "Berat bayi 1 bulan kedepan 70 ons\n"
     ]
    }
   ],
   "source": [
    "#input output\n",
    "nama = input(\"Nama bayi\")\n",
    "print(\"Nama bayi :\", nama)\n",
    "berat=int(input(\"berat\"))\n",
    "print(\"Berat :\",berat,\"kg\")\n",
    "berat *= 10\n",
    "print(\"Berat :\",berat,\"ons\")\n",
    "berat += 30\n",
    "print(\"Berat bayi 1 bulan kedepan\",berat,\"ons\")\n",
    "\n"
   ]
  },
  {
   "cell_type": "code",
   "execution_count": null,
   "metadata": {},
   "outputs": [],
   "source": []
  }
 ],
 "metadata": {
  "kernelspec": {
   "display_name": "Python 3",
   "language": "python",
   "name": "python3"
  },
  "language_info": {
   "codemirror_mode": {
    "name": "ipython",
    "version": 3
   },
   "file_extension": ".py",
   "mimetype": "text/x-python",
   "name": "python",
   "nbconvert_exporter": "python",
   "pygments_lexer": "ipython3",
   "version": "3.8.3"
  }
 },
 "nbformat": 4,
 "nbformat_minor": 4
}
